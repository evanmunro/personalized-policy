{
 "cells": [
  {
   "cell_type": "code",
   "execution_count": 2,
   "metadata": {},
   "outputs": [
    {
     "data": {
      "text/plain": [
       "recode_raw_survey_data! (generic function with 1 method)"
      ]
     },
     "execution_count": 2,
     "metadata": {},
     "output_type": "execute_result"
    }
   ],
   "source": [
    "using CSV, DataFrames, GLM, Statistics\n",
    "include(\"data_utils.jl\")"
   ]
  },
  {
   "cell_type": "markdown",
   "metadata": {},
   "source": [
    "#### Data Description\n",
    "Q1 is income, Q2 is age, Q3 is education, and Q4 is car ownership. "
   ]
  },
  {
   "cell_type": "markdown",
   "metadata": {},
   "source": [
    "### 1. Generate Baseline OLS Coefficients"
   ]
  },
  {
   "cell_type": "code",
   "execution_count": 56,
   "metadata": {},
   "outputs": [
    {
     "data": {
      "text/plain": [
       "StatsModels.TableRegressionModel{LinearModel{GLM.LmResp{Array{Float64,1}},GLM.DensePredChol{Float64,LinearAlgebra.Cholesky{Float64,Array{Float64,2}}}},Array{Float64,2}}\n",
       "\n",
       "Q1 ~ 1 + Q2 + Q3 + Q4\n",
       "\n",
       "Coefficients:\n",
       "──────────────────────────────────────────────────────────────────────────────\n",
       "              Estimate  Std. Error   t value  Pr(>|t|)   Lower 95%   Upper 95%\n",
       "──────────────────────────────────────────────────────────────────────────────\n",
       "(Intercept)  -75.2504    18.3489    -4.10109    <1e-4   -111.361    -39.1396\n",
       "Q2             0.30543    0.187875   1.62571    0.1051    -0.06431    0.675171\n",
       "Q3             6.69969    1.07616    6.22556    <1e-8      4.5818     8.81758\n",
       "Q4            16.0259     6.0055     2.66853    0.0080     4.20696   27.8448\n",
       "──────────────────────────────────────────────────────────────────────────────"
      ]
     },
     "execution_count": 56,
     "metadata": {},
     "output_type": "execute_result"
    }
   ],
   "source": [
    "datapath = \"data/raw/baseline.csv\"\n",
    "data = DataFrame!(CSV.File(\"data/raw/baseline.csv\"))\n",
    "recode_raw_survey_data!(data)\n",
    "ols = lm(@formula(Q1 ~ Q2 +Q3 +Q4), data)"
   ]
  },
  {
   "cell_type": "markdown",
   "metadata": {},
   "source": [
    "### 2. Set Reward Function"
   ]
  },
  {
   "cell_type": "code",
   "execution_count": 42,
   "metadata": {},
   "outputs": [
    {
     "name": "stdout",
     "output_type": "stream",
     "text": [
      "[-75.25042579332933, 0.30543025479655256, 6.699688591607267, 16.025854916560096]\n",
      "53.61666666666667\n",
      "means: [1.0, 37.76, 15.52, 0.8333333333333334]\n",
      "perturbs: [0.0, 0.10181008493218419, 2.233229530535756, 5.341951638853366]\n",
      "mean prediction: 53.61666666666669\n",
      "mean prediction at max perturb: 96.57236415333206\n",
      "mean prediction at min perturb: 10.66096918000135\n",
      "maximum possible prediction: 159.39117208188722\n",
      "minimum possible prediction: -26.30981161546248\n",
      "minimum no perturb: -1.8395045265290548\n",
      "maximum no perturb: 100.73077261308308\n"
     ]
    }
   ],
   "source": [
    "dscale = 3.0/3.0\n",
    "beta = coef(ols)\n",
    "println(beta)\n",
    "perturb = [0, beta[2:4]...]./3\n",
    "println(mean(data.Q1))\n",
    "xmeans = [1, mean(data.Q2), mean(data.Q3), mean(data.Q4)]\n",
    "println(\"means: \", xmeans)\n",
    "println(\"perturbs: \", perturb)\n",
    "println(\"mean prediction: \", sum(beta.*xmeans)*dscale)\n",
    "println(\"mean prediction at max perturb: \", sum((beta.+perturb).*xmeans)*dscale)\n",
    "println(\"mean prediction at min perturb: \", sum((beta.-perturb).*xmeans)*dscale)\n",
    "println(\"maximum possible prediction: \", sum((beta.+ perturb).*[1, 85, 20, 1])*dscale)\n",
    "println(\"minimum possible prediction: \", sum((beta.-perturb).*[1, 21, 10, 0])*dscale)\n",
    "println(\"minimum no perturb: \", sum((beta).*[1, 21, 10, 0])*dscale)\n",
    "println(\"maximum no perturb: \", sum(beta.*[1, 85, 20, 1])*dscale)\n",
    "\n"
   ]
  },
  {
   "cell_type": "markdown",
   "metadata": {},
   "source": [
    "## Naive Step 1"
   ]
  },
  {
   "cell_type": "code",
   "execution_count": 46,
   "metadata": {},
   "outputs": [
    {
     "name": "stdout",
     "output_type": "stream",
     "text": [
      "52.691029900332225\n",
      "[1.0, 38.17607973421927, 15.634551495016611, 0.8205980066445183]\n"
     ]
    }
   ],
   "source": [
    "xmeans = [1, mean(data.Q2), mean(data.Q3), mean(data.Q4)]\n",
    "println(mean(data.Q1))\n",
    "println(xmeans)"
   ]
  },
  {
   "cell_type": "code",
   "execution_count": 58,
   "metadata": {},
   "outputs": [
    {
     "data": {
      "text/plain": [
       "StatsModels.TableRegressionModel{LinearModel{GLM.LmResp{Array{Float64,1}},GLM.DensePredChol{Float64,LinearAlgebra.Cholesky{Float64,Array{Float64,2}}}},Array{Float64,2}}\n",
       "\n",
       "Q1 ~ 1 + Q2 + Q3 + Q4\n",
       "\n",
       "Coefficients:\n",
       "────────────────────────────────────────────────────────────────────────────────\n",
       "               Estimate  Std. Error   t value  Pr(>|t|)    Lower 95%   Upper 95%\n",
       "────────────────────────────────────────────────────────────────────────────────\n",
       "(Intercept)  -51.3109     15.1518    -3.38646    0.0008  -81.1294     -21.4924\n",
       "Q2             0.400729    0.160917   2.49028    0.0133    0.0840471    0.717411\n",
       "Q3             4.60589     0.889252   5.17951    <1e-6     2.85586      6.35593\n",
       "Q4            20.3421      5.36285    3.79314    0.0002    9.78805     30.8961\n",
       "────────────────────────────────────────────────────────────────────────────────"
      ]
     },
     "execution_count": 58,
     "metadata": {},
     "output_type": "execute_result"
    }
   ],
   "source": [
    "datapath = \"data/raw/n_step1.csv\"\n",
    "data = DataFrame!(CSV.File(datapath))\n",
    "recode_raw_survey_data!(data)\n",
    "ols = lm(@formula(Q1 ~ Q2 +Q3 +Q4), data)"
   ]
  },
  {
   "cell_type": "code",
   "execution_count": 30,
   "metadata": {},
   "outputs": [
    {
     "data": {
      "text/plain": [
       "303-element SentinelArrays.SentinelArray{Int64,1,Int64,Missing,Array{Int64,1}}:\n",
       " 29\n",
       " 29\n",
       " 69\n",
       " 29\n",
       " 49\n",
       " 39\n",
       " 39\n",
       " 49\n",
       " 29\n",
       " 21\n",
       " 39\n",
       " 21\n",
       " 29\n",
       "  ⋮\n",
       " 39\n",
       " 39\n",
       " 29\n",
       " 69\n",
       " 21\n",
       " 29\n",
       " 39\n",
       " 21\n",
       " 29\n",
       " 49\n",
       " 49\n",
       " 29"
      ]
     },
     "execution_count": 30,
     "metadata": {},
     "output_type": "execute_result"
    }
   ],
   "source": [
    "data.Q2"
   ]
  },
  {
   "cell_type": "code",
   "execution_count": 59,
   "metadata": {},
   "outputs": [
    {
     "name": "stdout",
     "output_type": "stream",
     "text": [
      "52.691029900332225\n",
      "stds: [38.136608212264626, 12.79839414068374, 2.291870171171589, 0.38432751813526606]\n",
      "means: [1.0, 38.17607973421927, 15.634551495016611, 0.8205980066445183]\n"
     ]
    }
   ],
   "source": [
    "xmeans = [1, mean(data.Q2), mean(data.Q3), mean(data.Q4)]\n",
    "println(mean(data.Q1))\n",
    "\n",
    "println(\"stds: \", [ std(data.Q1), std(data.Q2), std(data.Q3), std(data.Q4)])\n",
    "println(\"means: \", xmeans)\n"
   ]
  },
  {
   "cell_type": "code",
   "execution_count": 54,
   "metadata": {},
   "outputs": [
    {
     "data": {
      "text/plain": [
       "StatsModels.TableRegressionModel{LinearModel{GLM.LmResp{Array{Float64,1}},GLM.DensePredChol{Float64,LinearAlgebra.Cholesky{Float64,Array{Float64,2}}}},Array{Float64,2}}\n",
       "\n",
       "Q1 ~ 1 + Q2 + Q3 + Q4\n",
       "\n",
       "Coefficients:\n",
       "───────────────────────────────────────────────────────────────────────────────\n",
       "               Estimate  Std. Error   t value  Pr(>|t|)   Lower 95%   Upper 95%\n",
       "───────────────────────────────────────────────────────────────────────────────\n",
       "(Intercept)  -52.7511     16.1289    -3.2706     0.0012  -84.4926    -21.0097\n",
       "Q2             0.198445    0.16701    1.18823    0.2357   -0.130227    0.527117\n",
       "Q3             5.07875     0.923483   5.49956    <1e-7     3.26135     6.89615\n",
       "Q4            22.7685      5.8356     3.90166    0.0001   11.2842     34.2529\n",
       "───────────────────────────────────────────────────────────────────────────────"
      ]
     },
     "execution_count": 54,
     "metadata": {},
     "output_type": "execute_result"
    }
   ],
   "source": [
    "datapath = \"data/raw/e_step1.csv\"\n",
    "data = DataFrame!(tCSV.File(datapath))\n",
    "recode_raw_survey_data!(data)\n",
    "ols = lm(@formula(Q1 ~ Q2 +Q3 +Q4), data)"
   ]
  },
  {
   "cell_type": "markdown",
   "metadata": {},
   "source": [
    "### 3. Update Coefficients Based on Experimental Gradient Estimate"
   ]
  },
  {
   "cell_type": "code",
   "execution_count": 34,
   "metadata": {},
   "outputs": [
    {
     "data": {
      "text/plain": [
       "15.52"
      ]
     },
     "execution_count": 34,
     "metadata": {},
     "output_type": "execute_result"
    }
   ],
   "source": [
    "mean(data.Q3)"
   ]
  },
  {
   "cell_type": "code",
   "execution_count": 35,
   "metadata": {},
   "outputs": [
    {
     "data": {
      "text/plain": [
       "4-element Array{Float64,1}:\n",
       " -75.25042579332933\n",
       "   0.30543025479655256\n",
       "   6.699688591607267\n",
       "  16.025854916560096"
      ]
     },
     "execution_count": 35,
     "metadata": {},
     "output_type": "execute_result"
    }
   ],
   "source": [
    "coef(ols)"
   ]
  },
  {
   "cell_type": "code",
   "execution_count": 36,
   "metadata": {},
   "outputs": [
    {
     "data": {
      "text/plain": [
       "1×4 Array{Float64,2}:\n",
       " 1.0  37.76  15.52  0.833333"
      ]
     },
     "execution_count": 36,
     "metadata": {},
     "output_type": "execute_result"
    }
   ],
   "source": [
    "xmeans"
   ]
  },
  {
   "cell_type": "code",
   "execution_count": null,
   "metadata": {},
   "outputs": [],
   "source": [
    "beta.*"
   ]
  }
 ],
 "metadata": {
  "kernelspec": {
   "display_name": "Julia 1.4.2",
   "language": "julia",
   "name": "julia-1.4"
  },
  "language_info": {
   "file_extension": ".jl",
   "mimetype": "application/julia",
   "name": "julia",
   "version": "1.4.2"
  }
 },
 "nbformat": 4,
 "nbformat_minor": 2
}
