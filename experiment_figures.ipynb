{
 "cells": [
  {
   "cell_type": "code",
   "execution_count": 50,
   "metadata": {},
   "outputs": [
    {
     "data": {
      "text/plain": [
       "o_mse_calc (generic function with 1 method)"
      ]
     },
     "execution_count": 50,
     "metadata": {},
     "output_type": "execute_result"
    }
   ],
   "source": [
    "using CSV, DataFrames, GLM, Statistics, Plots\n",
    "include(\"data_utils.jl\")"
   ]
  },
  {
   "cell_type": "markdown",
   "metadata": {},
   "source": [
    "#### Data Description\n",
    "Q1 is income, Q2 is age, Q3 is education, and Q4 is car ownership. "
   ]
  },
  {
   "cell_type": "markdown",
   "metadata": {},
   "source": [
    "### 1. Generate Baseline OLS Coefficients"
   ]
  },
  {
   "cell_type": "code",
   "execution_count": 2,
   "metadata": {},
   "outputs": [
    {
     "name": "stdout",
     "output_type": "stream",
     "text": [
      "StatsModels.TableRegressionModel{LinearModel{GLM.LmResp{Array{Float64,1}},GLM.DensePredChol{Float64,Cholesky{Float64,Array{Float64,2}}}},Array{Float64,2}}\n",
      "\n",
      "Q1 ~ 1 + Q2 + Q3 + Q4\n",
      "\n",
      "Coefficients:\n",
      "───────────────────────────────────────────────────────────────────────────────\n",
      "               Estimate  Std. Error    t value  Pr(>|t|)   Lower 95%  Upper 95%\n",
      "───────────────────────────────────────────────────────────────────────────────\n",
      "(Intercept)  -31.4325     26.2397    -1.1979      0.2338  -83.4849    20.6199\n",
      "Q2             0.248228    0.262209   0.946679    0.3461   -0.271925   0.768381\n",
      "Q3             3.69354     1.55145    2.3807      0.0192    0.615874   6.7712\n",
      "Q4            17.9271      8.04848    2.22739     0.0281    1.96105   33.8931\n",
      "───────────────────────────────────────────────────────────────────────────────\n"
     ]
    },
    {
     "data": {
      "text/plain": [
       "\"\""
      ]
     },
     "execution_count": 2,
     "metadata": {},
     "output_type": "execute_result"
    }
   ],
   "source": [
    "datapath = \"data/raw/baseline_b.csv\"\n",
    "coef_base, data = run_ols(datapath)\n",
    "\"\""
   ]
  },
  {
   "cell_type": "markdown",
   "metadata": {},
   "source": [
    "### II. Calculate Gradient in First Step "
   ]
  },
  {
   "cell_type": "code",
   "execution_count": 6,
   "metadata": {},
   "outputs": [
    {
     "name": "stdout",
     "output_type": "stream",
     "text": [
      "6×11 DataFrame\n",
      "│ Row │ Duration │ Q1    │ Q2    │ Q3    │ Q4    │ SC0   │ bonus  │ perturb1 │ perturb2 │ perturb3 │ pg1score │\n",
      "│     │ \u001b[90mInt64\u001b[39m    │ \u001b[90mInt64\u001b[39m │ \u001b[90mInt64\u001b[39m │ \u001b[90mInt64\u001b[39m │ \u001b[90mInt64\u001b[39m │ \u001b[90mInt64\u001b[39m │ \u001b[90mInt64?\u001b[39m │ \u001b[90mInt64\u001b[39m    │ \u001b[90mInt64\u001b[39m    │ \u001b[90mInt64\u001b[39m    │ \u001b[90mInt64?\u001b[39m   │\n",
      "├─────┼──────────┼───────┼───────┼───────┼───────┼───────┼────────┼──────────┼──────────┼──────────┼──────────┤\n",
      "│ 1   │ 24       │ 3     │ 2     │ 3     │ 2     │ 1     │ 10     │ 2        │ 1        │ 1        │ 29       │\n",
      "│ 2   │ 20       │ 5     │ 2     │ 6     │ 1     │ 1     │ 85     │ 1        │ 2        │ 2        │ 29       │\n",
      "│ 3   │ 22       │ 1     │ 5     │ 6     │ 1     │ 1     │ 90     │ 1        │ 2        │ 2        │ 59       │\n",
      "│ 4   │ 23       │ 3     │ 3     │ 5     │ 1     │ 1     │ 77     │ 1        │ 2        │ 2        │ 39       │\n",
      "│ 5   │ 18       │ 8     │ 2     │ 5     │ 1     │ 1     │ 76     │ 1        │ 2        │ 2        │ 29       │\n",
      "│ 6   │ 18       │ 3     │ 2     │ 5     │ 1     │ 1     │ 80     │ 2        │ 2        │ 2        │ 29       │\n",
      "[4.385047638240876, -996.216621360158, -42.86992986457825, 26.77667448019884]\n"
     ]
    },
    {
     "data": {
      "text/plain": [
       "4-element Array{Float64,1}:\n",
       " -30.968405840316372\n",
       "   0.26068072523396274\n",
       "   3.979336160868521\n",
       "   9.001502337522767"
      ]
     },
     "execution_count": 6,
     "metadata": {},
     "output_type": "execute_result"
    }
   ],
   "source": [
    "datapath=\"data/raw/e_step1_all.csv\"\n",
    "beta_1 = run_gradient(datapath, coef_base)"
   ]
  },
  {
   "cell_type": "markdown",
   "metadata": {},
   "source": [
    "### III. Calculate Out of Sample MSE"
   ]
  },
  {
   "cell_type": "code",
   "execution_count": 13,
   "metadata": {},
   "outputs": [
    {
     "data": {
      "text/plain": [
       "1-element Array{String,1}:\n",
       " \"data/raw/e_step2_all.csv\""
      ]
     },
     "execution_count": 13,
     "metadata": {},
     "output_type": "execute_result"
    }
   ],
   "source": [
    "blist = [\"data/raw/baseline_c.csv\", \"data/raw/baseline_d.csv\"] \n",
    "e1list = [\"data/raw/e_step1_c.csv\", \"data/raw/e_step1_d.csv\"] \n",
    "e2list = [\"data/raw/e_step2_all.csv\"]"
   ]
  },
  {
   "cell_type": "code",
   "execution_count": 19,
   "metadata": {},
   "outputs": [
    {
     "name": "stdout",
     "output_type": "stream",
     "text": [
      "[673.6045749082185, 869.1687944988731]\n",
      "[1034.1328586545324, 922.9881842386307]\n",
      "[831.6845743725677]\n"
     ]
    },
    {
     "data": {
      "text/plain": [
       "831.6845743725677"
      ]
     },
     "execution_count": 19,
     "metadata": {},
     "output_type": "execute_result"
    }
   ],
   "source": [
    "mse_base = o_mse_calc(blist, coef_base) \n",
    "mse_1 = o_mse_calc(e1list, coef_base) \n",
    "mse_2 = o_mse_calc(e2list, beta_1) "
   ]
  },
  {
   "cell_type": "code",
   "execution_count": 43,
   "metadata": {},
   "outputs": [],
   "source": [
    "plot([\"Baseline\", \"Wave 1\", \"Wave 2\"], [ mse_base, mse_1, mse_2], seriestype=:bar, ylim =[500, 1150],label=nothing, ylabel=\"Out of Sample MSE\")\n",
    "savefig(\"figures/omse.pdf\")"
   ]
  },
  {
   "cell_type": "markdown",
   "metadata": {},
   "source": [
    "### IV. Calculate Summary Statistics"
   ]
  },
  {
   "cell_type": "code",
   "execution_count": 51,
   "metadata": {},
   "outputs": [
    {
     "name": "stdout",
     "output_type": "stream",
     "text": [
      "4×3 DataFrame\n",
      "│ Row │ variable │ mean     │ std      │\n",
      "│     │ \u001b[90mSymbol\u001b[39m   │ \u001b[90mFloat64\u001b[39m  │ \u001b[90mFloat64\u001b[39m  │\n",
      "├─────┼──────────┼──────────┼──────────┤\n",
      "│ 1   │ Q1       │ 48.5506  │ 29.3146  │\n",
      "│ 2   │ Q2       │ 35.7977  │ 10.0986  │\n",
      "│ 3   │ Q3       │ 15.8113  │ 1.77194  │\n",
      "│ 4   │ Q4       │ 0.898833 │ 0.301844 │\n",
      "514\n",
      "4×3 DataFrame\n",
      "│ Row │ variable │ mean    │ std      │\n",
      "│     │ \u001b[90mSymbol\u001b[39m   │ \u001b[90mFloat64\u001b[39m │ \u001b[90mFloat64\u001b[39m  │\n",
      "├─────┼──────────┼─────────┼──────────┤\n",
      "│ 1   │ Q1       │ 50.0589 │ 31.8769  │\n",
      "│ 2   │ Q2       │ 37.1572 │ 11.2274  │\n",
      "│ 3   │ Q3       │ 15.9725 │ 2.09029  │\n",
      "│ 4   │ Q4       │ 0.86444 │ 0.342657 │\n",
      "509\n",
      "4×3 DataFrame\n",
      "│ Row │ variable │ mean     │ std      │\n",
      "│     │ \u001b[90mSymbol\u001b[39m   │ \u001b[90mFloat64\u001b[39m  │ \u001b[90mFloat64\u001b[39m  │\n",
      "├─────┼──────────┼──────────┼──────────┤\n",
      "│ 1   │ Q1       │ 50.5296  │ 29.1743  │\n",
      "│ 2   │ Q2       │ 37.7833  │ 11.3367  │\n",
      "│ 3   │ Q3       │ 15.8818  │ 2.08955  │\n",
      "│ 4   │ Q4       │ 0.894089 │ 0.308104 │\n",
      "406\n"
     ]
    }
   ],
   "source": [
    "summarize_data(\"data/raw/baseline_all.csv\")\n",
    "summarize_data(\"data/raw/e_step1_all.csv\")\n",
    "summarize_data(\"data/raw/e_step2_all.csv\")"
   ]
  },
  {
   "cell_type": "markdown",
   "metadata": {},
   "source": [
    "### 2. Set Reward Function"
   ]
  },
  {
   "cell_type": "code",
   "execution_count": 25,
   "metadata": {},
   "outputs": [
    {
     "name": "stdout",
     "output_type": "stream",
     "text": [
      "[-33.60660581428372, 0.05250259161189099, 4.101686529370897, 17.16091185862718]\n",
      "48.55058365758755\n",
      "means: [1.0, 35.797665369649806, 15.811284046692608, 0.8988326848249028]\n",
      "perturbs: [0.0, 0.01750086387063033, 1.3672288431236324, 5.720303952875727]\n",
      "mean prediction: 48.55058365758755\n",
      "mean prediction at max perturb: 75.93631348154464\n",
      "mean prediction at min perturb: 21.164853833630463\n",
      "maximum possible prediction: 104.60321116312409\n",
      "minimum possible prediction: -5.526992669244592\n",
      "minimum no perturb: 8.512813903274967\n",
      "maximum no perturb: 70.05075691877215\n"
     ]
    }
   ],
   "source": [
    "dscale = 3.0/3.0\n",
    "beta = coef(olsb)\n",
    "println(beta)\n",
    "perturb = [0, beta[2:4]...]./3\n",
    "println(mean(data.Q1))\n",
    "xmeans = [1, mean(data.Q2), mean(data.Q3), mean(data.Q4)]\n",
    "println(\"means: \", xmeans)\n",
    "println(\"perturbs: \", perturb)\n",
    "println(\"mean prediction: \", sum(beta.*xmeans)*dscale)\n",
    "println(\"mean prediction at max perturb: \", sum((beta.+perturb).*xmeans)*dscale)\n",
    "println(\"mean prediction at min perturb: \", sum((beta.-perturb).*xmeans)*dscale)\n",
    "println(\"maximum possible prediction: \", sum((beta.+ perturb).*[1, 85, 20, 1])*dscale)\n",
    "println(\"minimum possible prediction: \", sum((beta.-perturb).*[1, 21, 10, 0])*dscale)\n",
    "println(\"minimum no perturb: \", sum((beta).*[1, 21, 10, 0])*dscale)\n",
    "println(\"maximum no perturb: \", sum(beta.*[1, 85, 20, 1])*dscale)\n",
    "\n"
   ]
  },
  {
   "cell_type": "markdown",
   "metadata": {},
   "source": [
    "## Naive Step 1"
   ]
  },
  {
   "cell_type": "code",
   "execution_count": 4,
   "metadata": {},
   "outputs": [
    {
     "name": "stdout",
     "output_type": "stream",
     "text": [
      "49.851485148514854\n",
      "[1.0, 37.91089108910891, 15.613861386138614, 0.900990099009901]\n"
     ]
    }
   ],
   "source": [
    "xmeans = [1, mean(data.Q2), mean(data.Q3), mean(data.Q4)]\n",
    "println(mean(data.Q1))\n",
    "println(xmeans)"
   ]
  },
  {
   "cell_type": "code",
   "execution_count": 3,
   "metadata": {},
   "outputs": [
    {
     "data": {
      "text/plain": [
       "StatsModels.TableRegressionModel{LinearModel{GLM.LmResp{Array{Float64,1}},GLM.DensePredChol{Float64,LinearAlgebra.Cholesky{Float64,Array{Float64,2}}}},Array{Float64,2}}\n",
       "\n",
       "Q1 ~ 1 + Q2 + Q3 + Q4\n",
       "\n",
       "Coefficients:\n",
       "─────────────────────────────────────────────────────────────────────────────────\n",
       "                Estimate  Std. Error    t value  Pr(>|t|)    Lower 95%  Upper 95%\n",
       "─────────────────────────────────────────────────────────────────────────────────\n",
       "(Intercept)  -53.5058      28.9929    -1.84548     0.0680  -111.049      4.03709\n",
       "Q2            -0.0953405    0.259475  -0.367437    0.7141    -0.610326   0.419645\n",
       "Q3             6.06577      1.75501    3.45626     0.0008     2.58256    9.54898\n",
       "Q4            13.609       10.1241     1.34421     0.1820    -6.48459   33.7026\n",
       "─────────────────────────────────────────────────────────────────────────────────"
      ]
     },
     "execution_count": 3,
     "metadata": {},
     "output_type": "execute_result"
    }
   ],
   "source": [
    "datapath = \"data/raw/n_step1b.csv\"\n",
    "data = DataFrame!(CSV.File(datapath))\n",
    "recode_raw_survey_data!(data)\n",
    "ols = lm(@formula(Q1 ~ Q2 +Q3 +Q4), data)\n",
    "\n",
    "#yhat = predict(olsb, data)\n",
    "#mean((yhat .- data[!,:Q1]).^2)"
   ]
  },
  {
   "cell_type": "code",
   "execution_count": 30,
   "metadata": {},
   "outputs": [
    {
     "data": {
      "text/plain": [
       "303-element SentinelArrays.SentinelArray{Int64,1,Int64,Missing,Array{Int64,1}}:\n",
       " 29\n",
       " 29\n",
       " 69\n",
       " 29\n",
       " 49\n",
       " 39\n",
       " 39\n",
       " 49\n",
       " 29\n",
       " 21\n",
       " 39\n",
       " 21\n",
       " 29\n",
       "  ⋮\n",
       " 39\n",
       " 39\n",
       " 29\n",
       " 69\n",
       " 21\n",
       " 29\n",
       " 39\n",
       " 21\n",
       " 29\n",
       " 49\n",
       " 49\n",
       " 29"
      ]
     },
     "execution_count": 30,
     "metadata": {},
     "output_type": "execute_result"
    }
   ],
   "source": [
    "data.Q2"
   ]
  },
  {
   "cell_type": "code",
   "execution_count": 4,
   "metadata": {},
   "outputs": [
    {
     "name": "stdout",
     "output_type": "stream",
     "text": [
      "49.851485148514854\n",
      "stds: [31.791944306259047, 11.53264844682347, 1.7318793088994564, 0.3001649711425204]\n",
      "means: [1.0, 37.91089108910891, 15.613861386138614, 0.900990099009901]\n"
     ]
    }
   ],
   "source": [
    "xmeans = [1, mean(data.Q2), mean(data.Q3), mean(data.Q4)]\n",
    "println(mean(data.Q1))\n",
    "\n",
    "println(\"stds: \", [ std(data.Q1), std(data.Q2), std(data.Q3), std(data.Q4)])\n",
    "println(\"means: \", xmeans)\n"
   ]
  },
  {
   "cell_type": "code",
   "execution_count": 39,
   "metadata": {},
   "outputs": [
    {
     "name": "stdout",
     "output_type": "stream",
     "text": [
      "thread = 1 warning: only found 16 / 17 columns around data row: 510. Filling remaining columns with `missing`\n",
      "(509, 17)"
     ]
    },
    {
     "data": {
      "text/plain": [
       "4-element Array{Float64,1}:\n",
       " -15.78402971041747\n",
       "   0.004511170223513669\n",
       "   3.217530025497887\n",
       "  16.523255120153074"
      ]
     },
     "execution_count": 39,
     "metadata": {},
     "output_type": "execute_result"
    }
   ],
   "source": [
    "datapath = \"data/raw/e_step1_all.csv\"\n",
    "data = DataFrame!(CSV.File(datapath))\n",
    "recode_raw_survey_data!(data)\n",
    "print(size(data))\n",
    "ols = lm(@formula(Q1 ~ Q2 +Q3 +Q4), data)\n",
    "ebase = coef(ols)\n"
   ]
  },
  {
   "cell_type": "code",
   "execution_count": 28,
   "metadata": {},
   "outputs": [
    {
     "data": {
      "text/plain": [
       "0.9354720936668208"
      ]
     },
     "execution_count": 28,
     "metadata": {},
     "output_type": "execute_result"
    }
   ],
   "source": [
    "(4.1-3.2)/(sqrt(0.66^2+0.7^2))"
   ]
  },
  {
   "cell_type": "code",
   "execution_count": 30,
   "metadata": {},
   "outputs": [
    {
     "name": "stdout",
     "output_type": "stream",
     "text": [
      "0.2651650429449553\n",
      "0.12282251782396604\n"
     ]
    }
   ],
   "source": [
    "println((0.045)/(sqrt(0.12^2*2)))\n",
    "\n",
    "println(0.7/sqrt(4.03^2*2))"
   ]
  },
  {
   "cell_type": "code",
   "execution_count": 201,
   "metadata": {},
   "outputs": [
    {
     "name": "stdout",
     "output_type": "stream",
     "text": [
      "50.05893909626719\n",
      "means: [1.0, 37.15717092337918, 15.972495088408644, 0.8644400785854617]\n"
     ]
    }
   ],
   "source": [
    "println(mean(data.Q1))\n",
    "xmeans = [1, mean(data.Q2), mean(data.Q3), mean(data.Q4)]\n",
    "println(\"means: \", xmeans)\n"
   ]
  },
  {
   "cell_type": "markdown",
   "metadata": {},
   "source": [
    "### 3. Update Coefficients Based on Experimental Gradient Estimate"
   ]
  },
  {
   "cell_type": "code",
   "execution_count": 200,
   "metadata": {},
   "outputs": [
    {
     "name": "stdout",
     "output_type": "stream",
     "text": [
      "[-31.432508727797035, 0.24822801746696074, 3.6935366284379993, 17.927060497589046]\n",
      "1016.1382516281734\n",
      "[4.385047638240876, -996.216621360158, -42.86992986457825, 26.77667448019884]\n",
      "[-30.968405840316372, 0.26068072523396274, 3.979336160868521, 9.001502337522767]\n",
      "[-10.322801946772124, 0.08689357507798758, 1.3264453869561736, 3.000500779174256]\n",
      "perturbs: [0.0, 0.08689357507798758, 1.3264453869561736, 3.000500779174256]\n",
      "mean prediction: 50.058939096267196\n",
      "mean prediction at max perturb: 77.06805407512836\n",
      "mean prediction at min perturb: 23.049824117406004\n",
      "maximum possible prediction: 116.69304375939032\n",
      "minimum possible prediction: -0.7899679479174182\n",
      "minimum no perturb: 14.299250998282055\n",
      "maximum no perturb: 79.77768135946364\n"
     ]
    },
    {
     "data": {
      "text/plain": [
       "50.05893909626719"
      ]
     },
     "execution_count": 200,
     "metadata": {},
     "output_type": "execute_result"
    }
   ],
   "source": [
    "coef0 = copy(cbase)\n",
    "println(coef0)\n",
    "perturb = coef0[2:length(coef0)]./3\n",
    "datapath = \"data/raw/e_step1_all.csv\"\n",
    "data = DataFrame!(CSV.File(datapath))\n",
    "recode_raw_survey_data!(data)\n",
    "println(var(data.Q1))\n",
    "recode_perturb!(data, perturb)\n",
    "data_in = ExperimentData(data.Q1, Matrix(data[!, [\"Q2\", \"Q3\", \"Q4\"]]), Matrix(data[!, [\"perturb1\", \"perturb2\", \"perturb3\"]]))\n",
    "b_new = update_β_robust(data_in, coef0)\n",
    "println(b_new)\n",
    "println(b_new/3)\n",
    "check_bonus_payments(data, b_new)\n",
    "\n",
    "mean(data.Q1)"
   ]
  },
  {
   "cell_type": "code",
   "execution_count": 204,
   "metadata": {},
   "outputs": [
    {
     "data": {
      "text/plain": [
       "1×3 Array{Float64,2}:\n",
       " -13.3331  9.82014  -1.94325"
      ]
     },
     "execution_count": 204,
     "metadata": {},
     "output_type": "execute_result"
    }
   ],
   "source": [
    "yhat = coef0[1] .+ sum((coef0[2:(3+1)]').*data_in.x, dims=2)\n",
    "-2.0/length(data_in.y).*(data_in.y - yhat)'*data_in.x"
   ]
  },
  {
   "cell_type": "code",
   "execution_count": 205,
   "metadata": {},
   "outputs": [
    {
     "name": "stdout",
     "output_type": "stream",
     "text": [
      "[-24.88061827809439, 0.255493940072227, 4.4132139018119005, -4.8461412084979845]\n",
      "[1.185965975286026, 435.1531485534837, -60.163869602605445, -75.65523508201478]\n",
      "[-53.59265531423395, 0.25005452571530845, 4.81430636582927, 20.372270485506945]\n",
      "[-17.864218438077984, 0.08335150857176948, 1.6047687886097568, 6.790756828502315]\n",
      "perturbs: [0.0, 0.08335150857176948, 1.6047687886097568, 6.790756828502315]\n",
      "mean prediction: 50.529556650246306\n",
      "mean prediction at max perturb: 85.2369606384064\n",
      "mean prediction at min perturb: 15.822152662086225\n",
      "maximum possible prediction: 130.29138800295746\n",
      "minimum possible prediction: -17.9965161820245\n",
      "minimum no perturb: -0.19844661591977086\n",
      "maximum no perturb: 84.32037717365962\n"
     ]
    },
    {
     "data": {
      "text/plain": [
       "15.881773399014778"
      ]
     },
     "execution_count": 205,
     "metadata": {},
     "output_type": "execute_result"
    }
   ],
   "source": [
    "coef0 = copy(b_new)\n",
    "println(coef0)\n",
    "perturb = coef0[2:length(coef0)]./3\n",
    "datapath = \"data/raw/e_step2_all.csv\"\n",
    "data = DataFrame!(CSV.File(datapath))\n",
    "recode_raw_survey_data!(data)\n",
    "recode_perturb!(data, perturb)\n",
    "data_in = ExperimentData(data.Q1, Matrix(data[!, [\"Q2\", \"Q3\", \"Q4\"]]), Matrix(data[!, [\"perturb1\", \"perturb2\", \"perturb3\"]]))\n",
    "b_new = update_β_robust(data_in, coef0)\n",
    "println(b_new)\n",
    "println(b_new/3)\n",
    "\n",
    "check_bonus_payments(data, b_new)\n",
    "\n",
    "mean(data.Q3)"
   ]
  },
  {
   "cell_type": "code",
   "execution_count": 192,
   "metadata": {},
   "outputs": [
    {
     "name": "stdout",
     "output_type": "stream",
     "text": [
      "StatsModels.TableRegressionModel{LinearModel{GLM.LmResp{Array{Float64,1}},GLM.DensePredChol{Float64,Cholesky{Float64,Array{Float64,2}}}},Array{Float64,2}}\n",
      "\n",
      "Q1 ~ 1 + Q2 + Q3 + Q4\n",
      "\n",
      "Coefficients:\n",
      "──────────────────────────────────────────────────────────────────────────────\n",
      "              Estimate  Std. Error   t value  Pr(>|t|)    Lower 95%  Upper 95%\n",
      "──────────────────────────────────────────────────────────────────────────────\n",
      "(Intercept)   9.22111    11.5873    0.795796    0.4266  -13.5581     32.0003\n",
      "Q2            0.194891    0.124266  1.56834     0.1176   -0.0494012   0.439184\n",
      "Q3            0.964005    0.694416  1.38822     0.1658   -0.401135    2.32914\n",
      "Q4           20.8421      4.72018   4.41554     <1e-4    11.5628     30.1214\n",
      "──────────────────────────────────────────────────────────────────────────────\n"
     ]
    },
    {
     "data": {
      "text/plain": [
       "([9.221108679274403, 0.19489149181243456, 0.9640046169041485, 20.842128435299987], 406×9 DataFrame. Omitted printing of 3 columns\n",
       "│ Row │ Duration (in seconds) │ Q1    │ Q2    │ Q3    │ Q4    │ bonus  │\n",
       "│     │ \u001b[90mInt64\u001b[39m                 │ \u001b[90mInt64\u001b[39m │ \u001b[90mInt64\u001b[39m │ \u001b[90mInt64\u001b[39m │ \u001b[90mInt64\u001b[39m │ \u001b[90mInt64?\u001b[39m │\n",
       "├─────┼───────────────────────┼───────┼───────┼───────┼───────┼────────┤\n",
       "│ 1   │ 15                    │ 25    │ 29    │ 16    │ 1     │ 76     │\n",
       "│ 2   │ 30                    │ 15    │ 39    │ 16    │ 0     │ 18     │\n",
       "│ 3   │ 11                    │ 45    │ 29    │ 20    │ 1     │ 97     │\n",
       "│ 4   │ 21                    │ 45    │ 21    │ 16    │ 1     │ 30     │\n",
       "│ 5   │ 24                    │ 35    │ 29    │ 16    │ 0     │ 64     │\n",
       "│ 6   │ 35                    │ 55    │ 29    │ 18    │ 0     │ 21     │\n",
       "│ 7   │ 32                    │ 75    │ 29    │ 16    │ 1     │ 28     │\n",
       "│ 8   │ 25                    │ 55    │ 29    │ 18    │ 1     │ 81     │\n",
       "│ 9   │ 26                    │ 15    │ 29    │ 12    │ 0     │ 37     │\n",
       "│ 10  │ 25                    │ 25    │ 29    │ 12    │ 1     │ 16     │\n",
       "⋮\n",
       "│ 396 │ 35                    │ 45    │ 49    │ 16    │ 1     │ 34     │\n",
       "│ 397 │ 31                    │ 85    │ 29    │ 16    │ 1     │ 70     │\n",
       "│ 398 │ 22                    │ 45    │ 39    │ 16    │ 1     │ 66     │\n",
       "│ 399 │ 18                    │ 25    │ 39    │ 12    │ 1     │ 19     │\n",
       "│ 400 │ 34                    │ 75    │ 29    │ 14    │ 1     │ 60     │\n",
       "│ 401 │ 45                    │ 45    │ 59    │ 20    │ 1     │ 107    │\n",
       "│ 402 │ 72                    │ 45    │ 29    │ 14    │ 1     │ 54     │\n",
       "│ 403 │ 48                    │ 5     │ 39    │ 16    │ 0     │ 18     │\n",
       "│ 404 │ 22                    │ 75    │ 29    │ 16    │ 1     │ 22     │\n",
       "│ 405 │ 42                    │ 25    │ 39    │ 12    │ 0     │ 7      │\n",
       "│ 406 │ 36                    │ 95    │ 49    │ 16    │ 1     │ 31     │)"
      ]
     },
     "execution_count": 192,
     "metadata": {},
     "output_type": "execute_result"
    }
   ],
   "source": [
    "run_ols(\"data/raw/e_step2_all.csv\")"
   ]
  },
  {
   "cell_type": "code",
   "execution_count": null,
   "metadata": {},
   "outputs": [],
   "source": []
  }
 ],
 "metadata": {
  "kernelspec": {
   "display_name": "Julia 1.4.2",
   "language": "julia",
   "name": "julia-1.4"
  },
  "language_info": {
   "file_extension": ".jl",
   "mimetype": "application/julia",
   "name": "julia",
   "version": "1.4.2"
  }
 },
 "nbformat": 4,
 "nbformat_minor": 2
}
