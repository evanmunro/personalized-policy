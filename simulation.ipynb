{
 "cells": [
  {
   "cell_type": "code",
   "execution_count": 111,
   "metadata": {},
   "outputs": [],
   "source": [
    "using Revise\n",
    "using Plots, CSV, DataFrames, GLM, RollingFunctions\n",
    "includet(\"model.jl\")"
   ]
  },
  {
   "cell_type": "code",
   "execution_count": 112,
   "metadata": {},
   "outputs": [
    {
     "data": {
      "text/plain": [
       "Covariates([0.8, 0.8], [0.06, 0.48], [1.0, 10000.0], 2)"
      ]
     },
     "execution_count": 112,
     "metadata": {},
     "output_type": "execute_result"
    }
   ],
   "source": [
    "#xMap = Covariates(2)\n",
    "xMap = Covariates([0.8,0.8],[0.06,0.48],[1,10000],2)"
   ]
  },
  {
   "cell_type": "code",
   "execution_count": 119,
   "metadata": {},
   "outputs": [
    {
     "data": {
      "text/plain": [
       "StatsModels.DataFrameRegressionModel{LinearModel{LmResp{Array{Float64,1}},DensePredChol{Float64,LinearAlgebra.Cholesky{Float64,Array{Float64,2}}}},Array{Float64,2}}\n",
       "\n",
       "Formula: y ~ 1 + x1 + x2\n",
       "\n",
       "Coefficients:\n",
       "               Estimate Std.Error   t value Pr(>|t|)\n",
       "(Intercept)  -0.0139347 0.0479488 -0.290617   0.7720\n",
       "x1             0.728599 0.0622484   11.7047   <1e-19\n",
       "x2             0.114875 0.0606057   1.89545   0.0610\n"
      ]
     },
     "execution_count": 119,
     "metadata": {},
     "output_type": "execute_result"
    }
   ],
   "source": [
    "x0,y0,manipulators = generate_sample(100,xMap)\n",
    "data = convert(DataFrame,x0)\n",
    "data[:y] = y0 \n",
    "baseline_data= copy(data)\n",
    "baseline = lm(@formula(y ~ x1+x2),data)\n",
    "#ols = lm(@formula(y ~ 1),data)"
   ]
  },
  {
   "cell_type": "code",
   "execution_count": 122,
   "metadata": {},
   "outputs": [],
   "source": [
    "epochs = 20\n",
    "N=5000\n",
    "model = baseline \n",
    "mse = zeros(epochs)\n",
    "mse[1] = mean((data[:y] .- predict(model,data)).^2) \n",
    "for t in 2:epochs\n",
    "    x,y = generate_sample(N,xMap,false)\n",
    "    data_new = convert(DataFrame,x)\n",
    "    data_new[:y] = y \n",
    "    mse[t] = mean((data_new[:y] .- predict(model,data_new)).^2) \n",
    "    #update model for next time \n",
    "    data = vcat(data,data_new)\n",
    "    model = lm(@formula(y ~ x1+x2),data)\n",
    "end \n",
    "\n",
    "epochs = 20\n",
    "N=5000\n",
    "model = baseline \n",
    "mse_dyn = copy(mse)\n",
    "mse_dyn[1] = mean((data[:y] .- predict(model,data)).^2) \n",
    "for t in 2:epochs\n",
    "    x,y = generate_sample(N,xMap)\n",
    "    data_new = convert(DataFrame,x)\n",
    "    data_new[:y] = y \n",
    "    mse_dyn[t] = mean((data_new[:y] .- predict(model,data_new)).^2) \n",
    "    #update model for next time \n",
    "    data = vcat(data,data_new)\n",
    "    #model = lm(@formula(y ~ x1+x2),data)\n",
    "end "
   ]
  },
  {
   "cell_type": "code",
   "execution_count": 124,
   "metadata": {},
   "outputs": [
    {
     "data": {
      "image/svg+xml": [
       "<?xml version=\"1.0\" encoding=\"utf-8\"?>\n",
       "<svg xmlns=\"http://www.w3.org/2000/svg\" xmlns:xlink=\"http://www.w3.org/1999/xlink\" width=\"600\" height=\"400\" viewBox=\"0 0 2400 1600\">\n",
       "<defs>\n",
       "  <clipPath id=\"clip8600\">\n",
       "    <rect x=\"0\" y=\"0\" width=\"2400\" height=\"1600\"/>\n",
       "  </clipPath>\n",
       "</defs>\n",
       "<path clip-path=\"url(#clip8600)\" d=\"\n",
       "M0 1600 L2400 1600 L2400 0 L0 0  Z\n",
       "  \" fill=\"#ffffff\" fill-rule=\"evenodd\" fill-opacity=\"1\"/>\n",
       "<defs>\n",
       "  <clipPath id=\"clip8601\">\n",
       "    <rect x=\"480\" y=\"0\" width=\"1681\" height=\"1600\"/>\n",
       "  </clipPath>\n",
       "</defs>\n",
       "<path clip-path=\"url(#clip8600)\" d=\"\n",
       "M277.911 1440.48 L2321.26 1440.48 L2321.26 125.984 L277.911 125.984  Z\n",
       "  \" fill=\"#ffffff\" fill-rule=\"evenodd\" fill-opacity=\"1\"/>\n",
       "<defs>\n",
       "  <clipPath id=\"clip8602\">\n",
       "    <rect x=\"277\" y=\"125\" width=\"2044\" height=\"1315\"/>\n",
       "  </clipPath>\n",
       "</defs>\n",
       "<polyline clip-path=\"url(#clip8602)\" style=\"stroke:#000000; stroke-width:1.6; stroke-opacity:0.1; fill:none\" points=\"\n",
       "  592.767,1440.48 592.767,125.984 \n",
       "  \"/>\n",
       "<polyline clip-path=\"url(#clip8602)\" style=\"stroke:#000000; stroke-width:1.6; stroke-opacity:0.1; fill:none\" points=\"\n",
       "  978.304,1440.48 978.304,125.984 \n",
       "  \"/>\n",
       "<polyline clip-path=\"url(#clip8602)\" style=\"stroke:#000000; stroke-width:1.6; stroke-opacity:0.1; fill:none\" points=\"\n",
       "  1363.84,1440.48 1363.84,125.984 \n",
       "  \"/>\n",
       "<polyline clip-path=\"url(#clip8602)\" style=\"stroke:#000000; stroke-width:1.6; stroke-opacity:0.1; fill:none\" points=\"\n",
       "  1749.38,1440.48 1749.38,125.984 \n",
       "  \"/>\n",
       "<polyline clip-path=\"url(#clip8602)\" style=\"stroke:#000000; stroke-width:1.6; stroke-opacity:0.1; fill:none\" points=\"\n",
       "  2134.92,1440.48 2134.92,125.984 \n",
       "  \"/>\n",
       "<polyline clip-path=\"url(#clip8602)\" style=\"stroke:#000000; stroke-width:1.6; stroke-opacity:0.1; fill:none\" points=\"\n",
       "  277.911,1275.25 2321.26,1275.25 \n",
       "  \"/>\n",
       "<polyline clip-path=\"url(#clip8602)\" style=\"stroke:#000000; stroke-width:1.6; stroke-opacity:0.1; fill:none\" points=\"\n",
       "  277.911,1103.81 2321.26,1103.81 \n",
       "  \"/>\n",
       "<polyline clip-path=\"url(#clip8602)\" style=\"stroke:#000000; stroke-width:1.6; stroke-opacity:0.1; fill:none\" points=\"\n",
       "  277.911,932.368 2321.26,932.368 \n",
       "  \"/>\n",
       "<polyline clip-path=\"url(#clip8602)\" style=\"stroke:#000000; stroke-width:1.6; stroke-opacity:0.1; fill:none\" points=\"\n",
       "  277.911,760.927 2321.26,760.927 \n",
       "  \"/>\n",
       "<polyline clip-path=\"url(#clip8602)\" style=\"stroke:#000000; stroke-width:1.6; stroke-opacity:0.1; fill:none\" points=\"\n",
       "  277.911,589.486 2321.26,589.486 \n",
       "  \"/>\n",
       "<polyline clip-path=\"url(#clip8602)\" style=\"stroke:#000000; stroke-width:1.6; stroke-opacity:0.1; fill:none\" points=\"\n",
       "  277.911,418.045 2321.26,418.045 \n",
       "  \"/>\n",
       "<polyline clip-path=\"url(#clip8602)\" style=\"stroke:#000000; stroke-width:1.6; stroke-opacity:0.1; fill:none\" points=\"\n",
       "  277.911,246.604 2321.26,246.604 \n",
       "  \"/>\n",
       "<polyline clip-path=\"url(#clip8600)\" style=\"stroke:#000000; stroke-width:3.2; stroke-opacity:1; fill:none\" points=\"\n",
       "  277.911,1440.48 2321.26,1440.48 \n",
       "  \"/>\n",
       "<polyline clip-path=\"url(#clip8600)\" style=\"stroke:#000000; stroke-width:3.2; stroke-opacity:1; fill:none\" points=\"\n",
       "  277.911,1440.48 277.911,125.984 \n",
       "  \"/>\n",
       "<polyline clip-path=\"url(#clip8600)\" style=\"stroke:#000000; stroke-width:3.2; stroke-opacity:1; fill:none\" points=\"\n",
       "  592.767,1440.48 592.767,1420.77 \n",
       "  \"/>\n",
       "<polyline clip-path=\"url(#clip8600)\" style=\"stroke:#000000; stroke-width:3.2; stroke-opacity:1; fill:none\" points=\"\n",
       "  978.304,1440.48 978.304,1420.77 \n",
       "  \"/>\n",
       "<polyline clip-path=\"url(#clip8600)\" style=\"stroke:#000000; stroke-width:3.2; stroke-opacity:1; fill:none\" points=\"\n",
       "  1363.84,1440.48 1363.84,1420.77 \n",
       "  \"/>\n",
       "<polyline clip-path=\"url(#clip8600)\" style=\"stroke:#000000; stroke-width:3.2; stroke-opacity:1; fill:none\" points=\"\n",
       "  1749.38,1440.48 1749.38,1420.77 \n",
       "  \"/>\n",
       "<polyline clip-path=\"url(#clip8600)\" style=\"stroke:#000000; stroke-width:3.2; stroke-opacity:1; fill:none\" points=\"\n",
       "  2134.92,1440.48 2134.92,1420.77 \n",
       "  \"/>\n",
       "<polyline clip-path=\"url(#clip8600)\" style=\"stroke:#000000; stroke-width:3.2; stroke-opacity:1; fill:none\" points=\"\n",
       "  277.911,1275.25 308.561,1275.25 \n",
       "  \"/>\n",
       "<polyline clip-path=\"url(#clip8600)\" style=\"stroke:#000000; stroke-width:3.2; stroke-opacity:1; fill:none\" points=\"\n",
       "  277.911,1103.81 308.561,1103.81 \n",
       "  \"/>\n",
       "<polyline clip-path=\"url(#clip8600)\" style=\"stroke:#000000; stroke-width:3.2; stroke-opacity:1; fill:none\" points=\"\n",
       "  277.911,932.368 308.561,932.368 \n",
       "  \"/>\n",
       "<polyline clip-path=\"url(#clip8600)\" style=\"stroke:#000000; stroke-width:3.2; stroke-opacity:1; fill:none\" points=\"\n",
       "  277.911,760.927 308.561,760.927 \n",
       "  \"/>\n",
       "<polyline clip-path=\"url(#clip8600)\" style=\"stroke:#000000; stroke-width:3.2; stroke-opacity:1; fill:none\" points=\"\n",
       "  277.911,589.486 308.561,589.486 \n",
       "  \"/>\n",
       "<polyline clip-path=\"url(#clip8600)\" style=\"stroke:#000000; stroke-width:3.2; stroke-opacity:1; fill:none\" points=\"\n",
       "  277.911,418.045 308.561,418.045 \n",
       "  \"/>\n",
       "<polyline clip-path=\"url(#clip8600)\" style=\"stroke:#000000; stroke-width:3.2; stroke-opacity:1; fill:none\" points=\"\n",
       "  277.911,246.604 308.561,246.604 \n",
       "  \"/>\n",
       "<g clip-path=\"url(#clip8600)\">\n",
       "<text style=\"fill:#000000; fill-opacity:1; font-family:Arial,Helvetica Neue,Helvetica,sans-serif; font-size:48px; text-anchor:middle;\" transform=\"rotate(0, 592.767, 1494.48)\" x=\"592.767\" y=\"1494.48\">3</text>\n",
       "</g>\n",
       "<g clip-path=\"url(#clip8600)\">\n",
       "<text style=\"fill:#000000; fill-opacity:1; font-family:Arial,Helvetica Neue,Helvetica,sans-serif; font-size:48px; text-anchor:middle;\" transform=\"rotate(0, 978.304, 1494.48)\" x=\"978.304\" y=\"1494.48\">6</text>\n",
       "</g>\n",
       "<g clip-path=\"url(#clip8600)\">\n",
       "<text style=\"fill:#000000; fill-opacity:1; font-family:Arial,Helvetica Neue,Helvetica,sans-serif; font-size:48px; text-anchor:middle;\" transform=\"rotate(0, 1363.84, 1494.48)\" x=\"1363.84\" y=\"1494.48\">9</text>\n",
       "</g>\n",
       "<g clip-path=\"url(#clip8600)\">\n",
       "<text style=\"fill:#000000; fill-opacity:1; font-family:Arial,Helvetica Neue,Helvetica,sans-serif; font-size:48px; text-anchor:middle;\" transform=\"rotate(0, 1749.38, 1494.48)\" x=\"1749.38\" y=\"1494.48\">12</text>\n",
       "</g>\n",
       "<g clip-path=\"url(#clip8600)\">\n",
       "<text style=\"fill:#000000; fill-opacity:1; font-family:Arial,Helvetica Neue,Helvetica,sans-serif; font-size:48px; text-anchor:middle;\" transform=\"rotate(0, 2134.92, 1494.48)\" x=\"2134.92\" y=\"1494.48\">15</text>\n",
       "</g>\n",
       "<g clip-path=\"url(#clip8600)\">\n",
       "<text style=\"fill:#000000; fill-opacity:1; font-family:Arial,Helvetica Neue,Helvetica,sans-serif; font-size:48px; text-anchor:end;\" transform=\"rotate(0, 253.911, 1292.75)\" x=\"253.911\" y=\"1292.75\">0.086</text>\n",
       "</g>\n",
       "<g clip-path=\"url(#clip8600)\">\n",
       "<text style=\"fill:#000000; fill-opacity:1; font-family:Arial,Helvetica Neue,Helvetica,sans-serif; font-size:48px; text-anchor:end;\" transform=\"rotate(0, 253.911, 1121.31)\" x=\"253.911\" y=\"1121.31\">0.087</text>\n",
       "</g>\n",
       "<g clip-path=\"url(#clip8600)\">\n",
       "<text style=\"fill:#000000; fill-opacity:1; font-family:Arial,Helvetica Neue,Helvetica,sans-serif; font-size:48px; text-anchor:end;\" transform=\"rotate(0, 253.911, 949.868)\" x=\"253.911\" y=\"949.868\">0.088</text>\n",
       "</g>\n",
       "<g clip-path=\"url(#clip8600)\">\n",
       "<text style=\"fill:#000000; fill-opacity:1; font-family:Arial,Helvetica Neue,Helvetica,sans-serif; font-size:48px; text-anchor:end;\" transform=\"rotate(0, 253.911, 778.427)\" x=\"253.911\" y=\"778.427\">0.089</text>\n",
       "</g>\n",
       "<g clip-path=\"url(#clip8600)\">\n",
       "<text style=\"fill:#000000; fill-opacity:1; font-family:Arial,Helvetica Neue,Helvetica,sans-serif; font-size:48px; text-anchor:end;\" transform=\"rotate(0, 253.911, 606.986)\" x=\"253.911\" y=\"606.986\">0.090</text>\n",
       "</g>\n",
       "<g clip-path=\"url(#clip8600)\">\n",
       "<text style=\"fill:#000000; fill-opacity:1; font-family:Arial,Helvetica Neue,Helvetica,sans-serif; font-size:48px; text-anchor:end;\" transform=\"rotate(0, 253.911, 435.545)\" x=\"253.911\" y=\"435.545\">0.091</text>\n",
       "</g>\n",
       "<g clip-path=\"url(#clip8600)\">\n",
       "<text style=\"fill:#000000; fill-opacity:1; font-family:Arial,Helvetica Neue,Helvetica,sans-serif; font-size:48px; text-anchor:end;\" transform=\"rotate(0, 253.911, 264.104)\" x=\"253.911\" y=\"264.104\">0.092</text>\n",
       "</g>\n",
       "<g clip-path=\"url(#clip8600)\">\n",
       "<text style=\"fill:#000000; fill-opacity:1; font-family:Arial,Helvetica Neue,Helvetica,sans-serif; font-size:84px; text-anchor:middle;\" transform=\"rotate(0, 1299.59, 73.2)\" x=\"1299.59\" y=\"73.2\">Rolling Out of Sample MSE</text>\n",
       "</g>\n",
       "<g clip-path=\"url(#clip8600)\">\n",
       "<text style=\"fill:#000000; fill-opacity:1; font-family:Arial,Helvetica Neue,Helvetica,sans-serif; font-size:66px; text-anchor:middle;\" transform=\"rotate(0, 1299.59, 1590.4)\" x=\"1299.59\" y=\"1590.4\">Time</text>\n",
       "</g>\n",
       "<g clip-path=\"url(#clip8600)\">\n",
       "<text style=\"fill:#000000; fill-opacity:1; font-family:Arial,Helvetica Neue,Helvetica,sans-serif; font-size:66px; text-anchor:middle;\" transform=\"rotate(-90, 155.511, 783.233)\" x=\"155.511\" y=\"783.233\">MSE</text>\n",
       "</g>\n",
       "<polyline clip-path=\"url(#clip8602)\" style=\"stroke:#009af9; stroke-width:3.2; stroke-opacity:1; fill:none\" points=\"\n",
       "  335.741,964.774 464.254,992.582 592.767,888.789 721.279,1105.32 849.792,1128.14 978.304,1155.87 1106.82,1197.39 1235.33,1358.96 1363.84,1403.28 1492.35,1352.63 \n",
       "  1620.87,1194.75 1749.38,1210.57 1877.89,1240.3 2006.4,1159.2 2134.92,1163.44 2263.43,1237.38 \n",
       "  \"/>\n",
       "<polyline clip-path=\"url(#clip8602)\" style=\"stroke:#e26f46; stroke-width:3.2; stroke-opacity:1; fill:none\" points=\"\n",
       "  335.741,822.41 464.254,914.432 592.767,978.295 721.279,932.354 849.792,851.512 978.304,665.616 1106.82,564.769 1235.33,305.351 1363.84,163.187 1492.35,519.018 \n",
       "  1620.87,528.876 1749.38,427.818 1877.89,457.463 2006.4,702.741 2134.92,608.535 2263.43,695.44 \n",
       "  \"/>\n",
       "<path clip-path=\"url(#clip8600)\" d=\"\n",
       "M1709.63 390.944 L2249.26 390.944 L2249.26 209.504 L1709.63 209.504  Z\n",
       "  \" fill=\"#ffffff\" fill-rule=\"evenodd\" fill-opacity=\"1\"/>\n",
       "<polyline clip-path=\"url(#clip8600)\" style=\"stroke:#000000; stroke-width:3.2; stroke-opacity:1; fill:none\" points=\"\n",
       "  1709.63,390.944 2249.26,390.944 2249.26,209.504 1709.63,209.504 1709.63,390.944 \n",
       "  \"/>\n",
       "<polyline clip-path=\"url(#clip8600)\" style=\"stroke:#009af9; stroke-width:3.2; stroke-opacity:1; fill:none\" points=\"\n",
       "  1733.63,269.984 1877.63,269.984 \n",
       "  \"/>\n",
       "<g clip-path=\"url(#clip8600)\">\n",
       "<text style=\"fill:#000000; fill-opacity:1; font-family:Arial,Helvetica Neue,Helvetica,sans-serif; font-size:48px; text-anchor:start;\" transform=\"rotate(0, 1901.63, 287.484)\" x=\"1901.63\" y=\"287.484\">Update Model</text>\n",
       "</g>\n",
       "<polyline clip-path=\"url(#clip8600)\" style=\"stroke:#e26f46; stroke-width:3.2; stroke-opacity:1; fill:none\" points=\"\n",
       "  1733.63,330.464 1877.63,330.464 \n",
       "  \"/>\n",
       "<g clip-path=\"url(#clip8600)\">\n",
       "<text style=\"fill:#000000; fill-opacity:1; font-family:Arial,Helvetica Neue,Helvetica,sans-serif; font-size:48px; text-anchor:start;\" transform=\"rotate(0, 1901.63, 347.964)\" x=\"1901.63\" y=\"347.964\">Static Model</text>\n",
       "</g>\n",
       "</svg>\n"
      ]
     },
     "execution_count": 124,
     "metadata": {},
     "output_type": "execute_result"
    }
   ],
   "source": [
    "mse_stat = rollmean(mse[1:length(mse)],5)\n",
    "mse_dp = rollmean(mse_dyn[1:length(mse_dyn)],5)\n",
    "plot([mse_stat,mse_dp],title=\"Rolling Out of Sample MSE\",xlabel=\"Time\",ylabel=\"MSE\",label=[\"Update Model\",\"Static Model\"])\n",
    "#savefig(\"mse_stat_dyn.pdf\")"
   ]
  },
  {
   "cell_type": "code",
   "execution_count": 165,
   "metadata": {},
   "outputs": [],
   "source": [
    "epochs = 100\n",
    "N=1000\n",
    "model = baseline \n",
    "data = copy(baseline_data) \n",
    "mse = zeros(epochs)\n",
    "manips = zeros(epochs)\n",
    "mse[1] = mean((baseline_data[:y] .- predict(baseline,baseline_data)).^2) \n",
    "for t in 2:epochs\n",
    "    x,y,manips[t] = generate_sample(N,xMap,1,model)\n",
    "    data_new = convert(DataFrame,x)\n",
    "    data_new[:y] = y \n",
    "    mse[t] = mean((data_new[:y] .- predict(model,data_new)).^2) \n",
    "    #update model for next time \n",
    "    data = vcat(data,data_new)\n",
    "    #model = lm(@formula(y ~ x1+x2),data)\n",
    "end \n",
    "\n"
   ]
  },
  {
   "cell_type": "code",
   "execution_count": 166,
   "metadata": {},
   "outputs": [
    {
     "data": {
      "text/plain": [
       "100-element Array{Float64,1}:\n",
       " 0.08159328214971209\n",
       " 0.4790006656768873 \n",
       " 0.48004567661480757\n",
       " 0.4748061197239915 \n",
       " 0.4746235551003717 \n",
       " 0.479019875055721  \n",
       " 0.4675191414524703 \n",
       " 0.470259843264282  \n",
       " 0.4819270585596869 \n",
       " 0.47386069298484745\n",
       " 0.4848375766280701 \n",
       " 0.48339090221079345\n",
       " 0.4888846421395441 \n",
       " ⋮                  \n",
       " 0.47248945221981936\n",
       " 0.4792024882202762 \n",
       " 0.4772513947174524 \n",
       " 0.47473255755025956\n",
       " 0.4828185248101796 \n",
       " 0.46502028412988444\n",
       " 0.47198707833562353\n",
       " 0.4764128366440588 \n",
       " 0.480528758372906  \n",
       " 0.4750219645410973 \n",
       " 0.469329618889556  \n",
       " 0.47358923923246665"
      ]
     },
     "execution_count": 166,
     "metadata": {},
     "output_type": "execute_result"
    }
   ],
   "source": [
    "mse_no_update = copy(mse)"
   ]
  },
  {
   "cell_type": "code",
   "execution_count": null,
   "metadata": {},
   "outputs": [],
   "source": []
  },
  {
   "cell_type": "code",
   "execution_count": 169,
   "metadata": {},
   "outputs": [],
   "source": [
    "epochs = 100\n",
    "N=1000\n",
    "model = baseline \n",
    "data = copy(baseline_data)\n",
    "mse = zeros(epochs)\n",
    "coef1 = zeros(epochs)\n",
    "coef2 = zeros(epochs)\n",
    "manips = zeros(epochs)\n",
    "mse[1] = mean((baseline_data[:y] .- predict(baseline,baseline_data)).^2) \n",
    "coef1[1]= coef(baseline)[2]\n",
    "coef2[1] = coef(baseline)[3] \n",
    "for t in 2:epochs\n",
    "    x,y,manips[t] = generate_sample(N,xMap,1,model)\n",
    "    data_new = convert(DataFrame,x)\n",
    "    data_new[:y] = y \n",
    "    mse[t] = mean((data_new[:y] .- predict(model,data_new)).^2) \n",
    "    #update model for next time \n",
    "    data = vcat(data,data_new)\n",
    "    model = lm(@formula(y ~ x1+x2),data)\n",
    "    coef1[t] = coef(model)[2]\n",
    "    coef2[t] = coef(model)[3] \n",
    "end "
   ]
  },
  {
   "cell_type": "code",
   "execution_count": 171,
   "metadata": {},
   "outputs": [],
   "source": [
    "plot([coef1 coef2],xlabel=\"Time\",ylabel=\"Derivative\",label=[\"x1_m\",\"x2_n\"]) \n",
    "savefig(\"manip_coef.pdf\")"
   ]
  },
  {
   "cell_type": "code",
   "execution_count": 173,
   "metadata": {},
   "outputs": [],
   "source": [
    "plot([mse mse_no_update],xlabel=\"Time\",ylabel=\"MSE\",label=[\"Update Model\",\"No Update\"])\n",
    "savefig(\"mse_manip.pdf\")"
   ]
  },
  {
   "cell_type": "code",
   "execution_count": 143,
   "metadata": {},
   "outputs": [
    {
     "data": {
      "text/plain": [
       "StatsModels.DataFrameRegressionModel{LinearModel{LmResp{Array{Float64,1}},DensePredChol{Float64,LinearAlgebra.Cholesky{Float64,Array{Float64,2}}}},Array{Float64,2}}\n",
       "\n",
       "Formula: y ~ 1 + x1 + x2\n",
       "\n",
       "Coefficients:\n",
       "              Estimate   Std.Error t value Pr(>|t|)\n",
       "(Intercept)  0.0195753 0.000810807  24.143   <1e-99\n",
       "x1              0.2114 0.000859833 245.862   <1e-99\n",
       "x2             0.26035  0.00084494 308.128   <1e-99\n"
      ]
     },
     "execution_count": 143,
     "metadata": {},
     "output_type": "execute_result"
    }
   ],
   "source": [
    "plot(rollmean(coef2,5))"
   ]
  },
  {
   "cell_type": "code",
   "execution_count": 147,
   "metadata": {},
   "outputs": [
    {
     "data": {
      "text/plain": [
       "StatsModels.DataFrameRegressionModel{LinearModel{LmResp{Array{Float64,1}},DensePredChol{Float64,LinearAlgebra.Cholesky{Float64,Array{Float64,2}}}},Array{Float64,2}}\n",
       "\n",
       "Formula: y ~ 1 + x1 + x2\n",
       "\n",
       "Coefficients:\n",
       "               Estimate Std.Error   t value Pr(>|t|)\n",
       "(Intercept)  -0.0139347 0.0479488 -0.290617   0.7720\n",
       "x1             0.728599 0.0622484   11.7047   <1e-19\n",
       "x2             0.114875 0.0606057   1.89545   0.0610\n"
      ]
     },
     "execution_count": 147,
     "metadata": {},
     "output_type": "execute_result"
    }
   ],
   "source": [
    "baseline"
   ]
  },
  {
   "cell_type": "code",
   "execution_count": null,
   "metadata": {},
   "outputs": [],
   "source": []
  }
 ],
 "metadata": {
  "kernelspec": {
   "display_name": "Julia 1.1.0",
   "language": "julia",
   "name": "julia-1.1"
  },
  "language_info": {
   "file_extension": ".jl",
   "mimetype": "application/julia",
   "name": "julia",
   "version": "1.1.0"
  }
 },
 "nbformat": 4,
 "nbformat_minor": 2
}
