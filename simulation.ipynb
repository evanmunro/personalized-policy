{
 "cells": [
  {
   "cell_type": "code",
   "execution_count": 1,
   "metadata": {},
   "outputs": [
    {
     "name": "stderr",
     "output_type": "stream",
     "text": [
      "┌ Info: Recompiling stale cache file /Users/evanmunro/.julia/compiled/v1.1/Revise/M1Qoh.ji for Revise [295af30f-e4ad-537b-8983-00126c2a3abe]\n",
      "└ @ Base loading.jl:1184\n",
      "┌ Info: Recompiling stale cache file /Users/evanmunro/.julia/compiled/v1.1/Plots/ld3vC.ji for Plots [91a5bcdd-55d7-5caf-9e0b-520d859cae80]\n",
      "└ @ Base loading.jl:1184\n",
      "┌ Info: Recompiling stale cache file /Users/evanmunro/.julia/compiled/v1.1/CSV/HHBkp.ji for CSV [336ed68f-0bac-5ca0-87d4-7b16caf5d00b]\n",
      "└ @ Base loading.jl:1184\n",
      "┌ Info: Recompiling stale cache file /Users/evanmunro/.julia/compiled/v1.1/GLM/6OREG.ji for GLM [38e38edf-8417-5370-95a0-9cbb8c7f171a]\n",
      "└ @ Base loading.jl:1184\n",
      "┌ Info: Recompiling stale cache file /Users/evanmunro/.julia/compiled/v1.1/RollingFunctions/ThWAA.ji for RollingFunctions [b0e4dd01-7b14-53d8-9b45-175a3e362653]\n",
      "└ @ Base loading.jl:1184\n",
      "┌ Info: Recompiling stale cache file /Users/evanmunro/.julia/compiled/v1.1/Combinatorics/AwRuT.ji for Combinatorics [861a8166-3701-5b0c-9a16-15d98fcdc6aa]\n",
      "└ @ Base loading.jl:1184\n"
     ]
    }
   ],
   "source": [
    "using Revise\n",
    "using Plots, CSV, DataFrames, GLM, RollingFunctions\n",
    "includet(\"model.jl\")"
   ]
  },
  {
   "cell_type": "code",
   "execution_count": 109,
   "metadata": {},
   "outputs": [
    {
     "data": {
      "text/plain": [
       "Covariates([0.8, 0.8], [0.06, 0.48], [1.0, 10000.0], 2)"
      ]
     },
     "execution_count": 109,
     "metadata": {},
     "output_type": "execute_result"
    }
   ],
   "source": [
    "#xMap = Covariates(2)\n",
    "xMap = Covariates([0.8,0.8],[0.06,0.48],[1,10000],2)"
   ]
  },
  {
   "cell_type": "code",
   "execution_count": 93,
   "metadata": {},
   "outputs": [
    {
     "data": {
      "text/plain": [
       "StatsModels.DataFrameRegressionModel{LinearModel{LmResp{Array{Float64,1}},DensePredChol{Float64,LinearAlgebra.Cholesky{Float64,Array{Float64,2}}}},Array{Float64,2}}\n",
       "\n",
       "Formula: y ~ 1 + x1 + x2\n",
       "\n",
       "Coefficients:\n",
       "                Estimate Std.Error     t value Pr(>|t|)\n",
       "(Intercept)  2.48253e-17  0.151787 1.63554e-16   1.0000\n",
       "x1                  0.55   0.21996     2.50046   0.0229\n",
       "x2                   0.2  0.191997     1.04168   0.3121\n"
      ]
     },
     "execution_count": 93,
     "metadata": {},
     "output_type": "execute_result"
    }
   ],
   "source": [
    "x0,y0 = generate_sample(20,xMap)\n",
    "data = convert(DataFrame,x0)\n",
    "data[:y] = y0 \n",
    "baseline_data= copy(data)\n",
    "baseline = lm(@formula(y ~ x1+x2),data)\n",
    "\n",
    "#ols = lm(@formula(y ~ 1),data)"
   ]
  },
  {
   "cell_type": "code",
   "execution_count": 94,
   "metadata": {},
   "outputs": [],
   "source": [
    "epochs = 20\n",
    "N=5000\n",
    "model = baseline \n",
    "mse = zeros(epochs)\n",
    "mse[1] = mean((data[:y] .- predict(model,data)).^2) \n",
    "for t in 2:epochs\n",
    "    x,y = generate_sample(N,xMap)\n",
    "    data_new = convert(DataFrame,x)\n",
    "    data_new[:y] = y \n",
    "    mse[t] = mean((data_new[:y] .- predict(model,data_new)).^2) \n",
    "    #update model for next time \n",
    "    data = vcat(data,data_new)\n",
    "    model = lm(@formula(y ~ x1+x2),data)\n",
    "end "
   ]
  },
  {
   "cell_type": "code",
   "execution_count": 96,
   "metadata": {},
   "outputs": [
    {
     "data": {
      "image/svg+xml": [
       "<?xml version=\"1.0\" encoding=\"utf-8\"?>\n",
       "<svg xmlns=\"http://www.w3.org/2000/svg\" xmlns:xlink=\"http://www.w3.org/1999/xlink\" width=\"600\" height=\"400\" viewBox=\"0 0 2400 1600\">\n",
       "<defs>\n",
       "  <clipPath id=\"clip4800\">\n",
       "    <rect x=\"0\" y=\"0\" width=\"2400\" height=\"1600\"/>\n",
       "  </clipPath>\n",
       "</defs>\n",
       "<path clip-path=\"url(#clip4800)\" d=\"\n",
       "M0 1600 L2400 1600 L2400 0 L0 0  Z\n",
       "  \" fill=\"#ffffff\" fill-rule=\"evenodd\" fill-opacity=\"1\"/>\n",
       "<defs>\n",
       "  <clipPath id=\"clip4801\">\n",
       "    <rect x=\"480\" y=\"0\" width=\"1681\" height=\"1600\"/>\n",
       "  </clipPath>\n",
       "</defs>\n",
       "<path clip-path=\"url(#clip4800)\" d=\"\n",
       "M277.911 1440.48 L2321.26 1440.48 L2321.26 125.984 L277.911 125.984  Z\n",
       "  \" fill=\"#ffffff\" fill-rule=\"evenodd\" fill-opacity=\"1\"/>\n",
       "<defs>\n",
       "  <clipPath id=\"clip4802\">\n",
       "    <rect x=\"277\" y=\"125\" width=\"2044\" height=\"1315\"/>\n",
       "  </clipPath>\n",
       "</defs>\n",
       "<polyline clip-path=\"url(#clip4802)\" style=\"stroke:#000000; stroke-width:1.6; stroke-opacity:0.1; fill:none\" points=\"\n",
       "  592.767,1440.48 592.767,125.984 \n",
       "  \"/>\n",
       "<polyline clip-path=\"url(#clip4802)\" style=\"stroke:#000000; stroke-width:1.6; stroke-opacity:0.1; fill:none\" points=\"\n",
       "  978.304,1440.48 978.304,125.984 \n",
       "  \"/>\n",
       "<polyline clip-path=\"url(#clip4802)\" style=\"stroke:#000000; stroke-width:1.6; stroke-opacity:0.1; fill:none\" points=\"\n",
       "  1363.84,1440.48 1363.84,125.984 \n",
       "  \"/>\n",
       "<polyline clip-path=\"url(#clip4802)\" style=\"stroke:#000000; stroke-width:1.6; stroke-opacity:0.1; fill:none\" points=\"\n",
       "  1749.38,1440.48 1749.38,125.984 \n",
       "  \"/>\n",
       "<polyline clip-path=\"url(#clip4802)\" style=\"stroke:#000000; stroke-width:1.6; stroke-opacity:0.1; fill:none\" points=\"\n",
       "  2134.92,1440.48 2134.92,125.984 \n",
       "  \"/>\n",
       "<polyline clip-path=\"url(#clip4802)\" style=\"stroke:#000000; stroke-width:1.6; stroke-opacity:0.1; fill:none\" points=\"\n",
       "  277.911,1328.51 2321.26,1328.51 \n",
       "  \"/>\n",
       "<polyline clip-path=\"url(#clip4802)\" style=\"stroke:#000000; stroke-width:1.6; stroke-opacity:0.1; fill:none\" points=\"\n",
       "  277.911,1014.17 2321.26,1014.17 \n",
       "  \"/>\n",
       "<polyline clip-path=\"url(#clip4802)\" style=\"stroke:#000000; stroke-width:1.6; stroke-opacity:0.1; fill:none\" points=\"\n",
       "  277.911,699.833 2321.26,699.833 \n",
       "  \"/>\n",
       "<polyline clip-path=\"url(#clip4802)\" style=\"stroke:#000000; stroke-width:1.6; stroke-opacity:0.1; fill:none\" points=\"\n",
       "  277.911,385.495 2321.26,385.495 \n",
       "  \"/>\n",
       "<polyline clip-path=\"url(#clip4800)\" style=\"stroke:#000000; stroke-width:3.2; stroke-opacity:1; fill:none\" points=\"\n",
       "  277.911,1440.48 2321.26,1440.48 \n",
       "  \"/>\n",
       "<polyline clip-path=\"url(#clip4800)\" style=\"stroke:#000000; stroke-width:3.2; stroke-opacity:1; fill:none\" points=\"\n",
       "  277.911,1440.48 277.911,125.984 \n",
       "  \"/>\n",
       "<polyline clip-path=\"url(#clip4800)\" style=\"stroke:#000000; stroke-width:3.2; stroke-opacity:1; fill:none\" points=\"\n",
       "  592.767,1440.48 592.767,1420.77 \n",
       "  \"/>\n",
       "<polyline clip-path=\"url(#clip4800)\" style=\"stroke:#000000; stroke-width:3.2; stroke-opacity:1; fill:none\" points=\"\n",
       "  978.304,1440.48 978.304,1420.77 \n",
       "  \"/>\n",
       "<polyline clip-path=\"url(#clip4800)\" style=\"stroke:#000000; stroke-width:3.2; stroke-opacity:1; fill:none\" points=\"\n",
       "  1363.84,1440.48 1363.84,1420.77 \n",
       "  \"/>\n",
       "<polyline clip-path=\"url(#clip4800)\" style=\"stroke:#000000; stroke-width:3.2; stroke-opacity:1; fill:none\" points=\"\n",
       "  1749.38,1440.48 1749.38,1420.77 \n",
       "  \"/>\n",
       "<polyline clip-path=\"url(#clip4800)\" style=\"stroke:#000000; stroke-width:3.2; stroke-opacity:1; fill:none\" points=\"\n",
       "  2134.92,1440.48 2134.92,1420.77 \n",
       "  \"/>\n",
       "<polyline clip-path=\"url(#clip4800)\" style=\"stroke:#000000; stroke-width:3.2; stroke-opacity:1; fill:none\" points=\"\n",
       "  277.911,1328.51 308.561,1328.51 \n",
       "  \"/>\n",
       "<polyline clip-path=\"url(#clip4800)\" style=\"stroke:#000000; stroke-width:3.2; stroke-opacity:1; fill:none\" points=\"\n",
       "  277.911,1014.17 308.561,1014.17 \n",
       "  \"/>\n",
       "<polyline clip-path=\"url(#clip4800)\" style=\"stroke:#000000; stroke-width:3.2; stroke-opacity:1; fill:none\" points=\"\n",
       "  277.911,699.833 308.561,699.833 \n",
       "  \"/>\n",
       "<polyline clip-path=\"url(#clip4800)\" style=\"stroke:#000000; stroke-width:3.2; stroke-opacity:1; fill:none\" points=\"\n",
       "  277.911,385.495 308.561,385.495 \n",
       "  \"/>\n",
       "<g clip-path=\"url(#clip4800)\">\n",
       "<text style=\"fill:#000000; fill-opacity:1; font-family:Arial,Helvetica Neue,Helvetica,sans-serif; font-size:48px; text-anchor:middle;\" transform=\"rotate(0, 592.767, 1494.48)\" x=\"592.767\" y=\"1494.48\">3</text>\n",
       "</g>\n",
       "<g clip-path=\"url(#clip4800)\">\n",
       "<text style=\"fill:#000000; fill-opacity:1; font-family:Arial,Helvetica Neue,Helvetica,sans-serif; font-size:48px; text-anchor:middle;\" transform=\"rotate(0, 978.304, 1494.48)\" x=\"978.304\" y=\"1494.48\">6</text>\n",
       "</g>\n",
       "<g clip-path=\"url(#clip4800)\">\n",
       "<text style=\"fill:#000000; fill-opacity:1; font-family:Arial,Helvetica Neue,Helvetica,sans-serif; font-size:48px; text-anchor:middle;\" transform=\"rotate(0, 1363.84, 1494.48)\" x=\"1363.84\" y=\"1494.48\">9</text>\n",
       "</g>\n",
       "<g clip-path=\"url(#clip4800)\">\n",
       "<text style=\"fill:#000000; fill-opacity:1; font-family:Arial,Helvetica Neue,Helvetica,sans-serif; font-size:48px; text-anchor:middle;\" transform=\"rotate(0, 1749.38, 1494.48)\" x=\"1749.38\" y=\"1494.48\">12</text>\n",
       "</g>\n",
       "<g clip-path=\"url(#clip4800)\">\n",
       "<text style=\"fill:#000000; fill-opacity:1; font-family:Arial,Helvetica Neue,Helvetica,sans-serif; font-size:48px; text-anchor:middle;\" transform=\"rotate(0, 2134.92, 1494.48)\" x=\"2134.92\" y=\"1494.48\">15</text>\n",
       "</g>\n",
       "<g clip-path=\"url(#clip4800)\">\n",
       "<text style=\"fill:#000000; fill-opacity:1; font-family:Arial,Helvetica Neue,Helvetica,sans-serif; font-size:48px; text-anchor:end;\" transform=\"rotate(0, 253.911, 1346.01)\" x=\"253.911\" y=\"1346.01\">0.086</text>\n",
       "</g>\n",
       "<g clip-path=\"url(#clip4800)\">\n",
       "<text style=\"fill:#000000; fill-opacity:1; font-family:Arial,Helvetica Neue,Helvetica,sans-serif; font-size:48px; text-anchor:end;\" transform=\"rotate(0, 253.911, 1031.67)\" x=\"253.911\" y=\"1031.67\">0.088</text>\n",
       "</g>\n",
       "<g clip-path=\"url(#clip4800)\">\n",
       "<text style=\"fill:#000000; fill-opacity:1; font-family:Arial,Helvetica Neue,Helvetica,sans-serif; font-size:48px; text-anchor:end;\" transform=\"rotate(0, 253.911, 717.333)\" x=\"253.911\" y=\"717.333\">0.090</text>\n",
       "</g>\n",
       "<g clip-path=\"url(#clip4800)\">\n",
       "<text style=\"fill:#000000; fill-opacity:1; font-family:Arial,Helvetica Neue,Helvetica,sans-serif; font-size:48px; text-anchor:end;\" transform=\"rotate(0, 253.911, 402.995)\" x=\"253.911\" y=\"402.995\">0.092</text>\n",
       "</g>\n",
       "<g clip-path=\"url(#clip4800)\">\n",
       "<text style=\"fill:#000000; fill-opacity:1; font-family:Arial,Helvetica Neue,Helvetica,sans-serif; font-size:84px; text-anchor:middle;\" transform=\"rotate(0, 1299.59, 73.2)\" x=\"1299.59\" y=\"73.2\">Test MSE: Static Distribution, Dynamic Model</text>\n",
       "</g>\n",
       "<g clip-path=\"url(#clip4800)\">\n",
       "<text style=\"fill:#000000; fill-opacity:1; font-family:Arial,Helvetica Neue,Helvetica,sans-serif; font-size:66px; text-anchor:middle;\" transform=\"rotate(0, 1299.59, 1590.4)\" x=\"1299.59\" y=\"1590.4\">Time</text>\n",
       "</g>\n",
       "<g clip-path=\"url(#clip4800)\">\n",
       "<text style=\"fill:#000000; fill-opacity:1; font-family:Arial,Helvetica Neue,Helvetica,sans-serif; font-size:66px; text-anchor:middle;\" transform=\"rotate(-90, 155.511, 783.233)\" x=\"155.511\" y=\"783.233\">MSE</text>\n",
       "</g>\n",
       "<polyline clip-path=\"url(#clip4802)\" style=\"stroke:#009af9; stroke-width:3.2; stroke-opacity:1; fill:none\" points=\"\n",
       "  335.741,163.187 464.254,1047.8 592.767,1349.68 721.279,1264.62 849.792,1118.07 978.304,1135.71 1106.82,1254.71 1235.33,1403.28 1363.84,1371.9 1492.35,1271.25 \n",
       "  1620.87,1185.27 1749.38,1244.47 1877.89,1227.37 2006.4,1170.13 2134.92,1240.61 2263.43,1351.33 \n",
       "  \"/>\n",
       "<path clip-path=\"url(#clip4800)\" d=\"\n",
       "M1958.43 330.464 L2249.26 330.464 L2249.26 209.504 L1958.43 209.504  Z\n",
       "  \" fill=\"#ffffff\" fill-rule=\"evenodd\" fill-opacity=\"1\"/>\n",
       "<polyline clip-path=\"url(#clip4800)\" style=\"stroke:#000000; stroke-width:3.2; stroke-opacity:1; fill:none\" points=\"\n",
       "  1958.43,330.464 2249.26,330.464 2249.26,209.504 1958.43,209.504 1958.43,330.464 \n",
       "  \"/>\n",
       "<polyline clip-path=\"url(#clip4800)\" style=\"stroke:#009af9; stroke-width:3.2; stroke-opacity:1; fill:none\" points=\"\n",
       "  1982.43,269.984 2126.43,269.984 \n",
       "  \"/>\n",
       "<g clip-path=\"url(#clip4800)\">\n",
       "<text style=\"fill:#000000; fill-opacity:1; font-family:Arial,Helvetica Neue,Helvetica,sans-serif; font-size:48px; text-anchor:start;\" transform=\"rotate(0, 2150.43, 287.484)\" x=\"2150.43\" y=\"287.484\">y1</text>\n",
       "</g>\n",
       "</svg>\n"
      ]
     },
     "execution_count": 96,
     "metadata": {},
     "output_type": "execute_result"
    }
   ],
   "source": [
    "mse_stat = rollmean(mse[1:length(mse)],5)\n",
    "plot(mse_stat,title=\"Test MSE: Static Distribution, Dynamic Model\",xlabel=\"Time\",ylabel=\"MSE\")\n",
    "#savefig(\"mse_stat_dyn.pdf\")"
   ]
  },
  {
   "cell_type": "code",
   "execution_count": 104,
   "metadata": {},
   "outputs": [],
   "source": [
    "epochs = 20\n",
    "N=5000\n",
    "model = baseline \n",
    "mse_dyn = copy(mse)\n",
    "mse_dyn[1] = mean((data[:y] .- predict(model,data)).^2) \n",
    "for t in 2:epochs\n",
    "    x,y = generate_sample(N,xMap)\n",
    "    data_new = convert(DataFrame,x)\n",
    "    data_new[:y] = y \n",
    "    mse_dyn[t] = mean((data_new[:y] .- predict(model,data_new)).^2) \n",
    "    #update model for next time \n",
    "    data = vcat(data,data_new)\n",
    "    #model = lm(@formula(y ~ x1+x2),data)\n",
    "end \n",
    "\n"
   ]
  },
  {
   "cell_type": "code",
   "execution_count": 108,
   "metadata": {},
   "outputs": [],
   "source": [
    "mse_dp = rollmean(mse_dyn[1:length(mse_dyn)],5)\n",
    "plot([mse_stat,mse_dp],title=\"Rolling Out of Sample MSE\",xlabel=\"Time\",ylabel=\"MSE\",label=[\"Update Model\",\"Static Model\"])\n",
    "savefig(\"mse_stat.pdf\")"
   ]
  },
  {
   "cell_type": "code",
   "execution_count": 20,
   "metadata": {},
   "outputs": [
    {
     "data": {
      "text/plain": [
       "StatsModels.DataFrameRegressionModel{LinearModel{LmResp{Array{Float64,1}},DensePredChol{Float64,LinearAlgebra.Cholesky{Float64,Array{Float64,2}}}},Array{Float64,2}}\n",
       "\n",
       "Formula: y ~ 1 + x1 + x2\n",
       "\n",
       "Coefficients:\n",
       "              Estimate   Std.Error t value Pr(>|t|)\n",
       "(Intercept)  0.0289636 0.000385472 75.1379   <1e-99\n",
       "x1            0.809615 0.000575815 1406.03   <1e-99\n",
       "x2            0.103827 0.000511863 202.842   <1e-99\n"
      ]
     },
     "execution_count": 20,
     "metadata": {},
     "output_type": "execute_result"
    }
   ],
   "source": [
    "model"
   ]
  },
  {
   "cell_type": "code",
   "execution_count": null,
   "metadata": {},
   "outputs": [],
   "source": []
  }
 ],
 "metadata": {
  "kernelspec": {
   "display_name": "Julia 1.1.0",
   "language": "julia",
   "name": "julia-1.1"
  },
  "language_info": {
   "file_extension": ".jl",
   "mimetype": "application/julia",
   "name": "julia",
   "version": "1.1.0"
  }
 },
 "nbformat": 4,
 "nbformat_minor": 2
}
